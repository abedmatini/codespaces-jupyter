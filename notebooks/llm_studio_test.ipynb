{
 "cells": [
  {
   "cell_type": "markdown",
   "id": "06a7c88a",
   "metadata": {},
   "source": [
    "# Testing LM Studio Local API Connection\n",
    "\n",
    "This notebook will test the connection to a locally running LM Studio server with the Llama-3.2-1B model."
   ]
  },
  {
   "cell_type": "code",
   "execution_count": 5,
   "id": "927bea03",
   "metadata": {},
   "outputs": [],
   "source": [
    "# Import required libraries\n",
    "import requests\n",
    "import json\n",
    "import time"
   ]
  },
  {
   "cell_type": "code",
   "execution_count": 6,
   "id": "52ef4663",
   "metadata": {},
   "outputs": [],
   "source": [
    "# Configure API settings\n",
    "API_URL = \"http://localhost:1234/v1/chat/completions\"  # LM Studio API endpoint\n",
    "headers = {\n",
    "    \"Content-Type\": \"application/json\"\n",
    "}"
   ]
  },
  {
   "cell_type": "code",
   "execution_count": null,
   "id": "49219f2d",
   "metadata": {},
   "outputs": [],
   "source": [
    "# Function to test API connection\n",
    "def test_api_connection():\n",
    "    try:\n",
    "        print(f\"Attempting to connect to {API_URL}\")\n",
    "        \n",
    "        # Simple test message matching the curl command structure\n",
    "        payload = {\n",
    "            \"model\": \"llama-3.2-1b-instruct\",\n",
    "            \"messages\": [\n",
    "                {\"role\": \"system\", \"content\": \"Always answer in rhymes. Today is Thursday\"},\n",
    "                {\"role\": \"user\", \"content\": \"What day is it today?\"}\n",
    "            ],\n",
    "            \"temperature\": 0.7,\n",
    "            \"max_tokens\": -1,\n",
    "            \"stream\": False\n",
    "        }\n",
    "        \n",
    "        # Add verbose logging\n",
    "        print(\"Sending request with headers:\", headers)\n",
    "        print(\"Payload:\", json.dumps(payload, indent=2))\n",
    "        \n",
    "        # Send POST request with a timeout\n",
    "        response = requests.post(API_URL, headers=headers, json=payload, timeout=10)\n",
    "        \n",
    "        print(f\"Response status code: {response.status_code}\")\n",
    "        \n",
    "        # Check if request was successful\n",
    "        if response.status_code == 200:\n",
    "            return response.json()\n",
    "        else:\n",
    "            print(f\"Full response text: {response.text}\")\n",
    "            return f\"Error: Status code {response.status_code}, {response.text}\"\n",
    "            \n",
    "    except requests.exceptions.Timeout:\n",
    "        return \"Connection Error: Request timed out. Make sure port forwarding is set up correctly.\"\n",
    "    except requests.exceptions.ConnectionError as e:\n",
    "        return f\"Connection Error: Could not connect to the server. Make sure port forwarding is enabled.\\nError details: {str(e)}\"\n",
    "    except Exception as e:\n",
    "        return f\"Unexpected error: {str(e)}\""
   ]
  },
  {
   "cell_type": "code",
   "execution_count": 11,
   "id": "ffd6461c",
   "metadata": {},
   "outputs": [
    {
     "name": "stdout",
     "output_type": "stream",
     "text": [
      "API Response:\n",
      "\"Connection Error: HTTPConnectionPool(host='localhost', port=1234): Max retries exceeded with url: /v1/chat/completions (Caused by NewConnectionError('<urllib3.connection.HTTPConnection object at 0x7f9d9cfc49e0>: Failed to establish a new connection: [Errno 111] Connection refused'))\"\n"
     ]
    }
   ],
   "source": [
    "# Run the test and print the result\n",
    "result = test_api_connection()\n",
    "print(\"API Response:\")\n",
    "print(json.dumps(result, indent=2))"
   ]
  },
  {
   "cell_type": "code",
   "execution_count": null,
   "id": "6cbde6f1",
   "metadata": {},
   "outputs": [],
   "source": []
  },
  {
   "cell_type": "code",
   "execution_count": 10,
   "id": "917b1ae7",
   "metadata": {},
   "outputs": [
    {
     "name": "stdout",
     "output_type": "stream",
     "text": [
      "Testing connection to 127.0.0.1:1234\n",
      "❌ Port is closed - Server might not be running\n",
      "\n",
      "Troubleshooting steps:\n",
      "1. Make sure LM Studio is open\n",
      "2. Check if the model is loaded\n",
      "3. Verify the 'Start Server' button is clicked in LM Studio\n",
      "4. Confirm the server is running on port 1234\n"
     ]
    }
   ],
   "source": [
    "# Diagnostic test\n",
    "def check_server_status():\n",
    "    import socket\n",
    "    \n",
    "    host = \"127.0.0.1\"\n",
    "    port = 1234\n",
    "    \n",
    "    print(f\"Testing connection to {host}:{port}\")\n",
    "    \n",
    "    # Create a socket object\n",
    "    sock = socket.socket(socket.AF_INET, socket.SOCK_STREAM)\n",
    "    sock.settimeout(5)  # 5 second timeout\n",
    "    \n",
    "    try:\n",
    "        result = sock.connect_ex((host, port))\n",
    "        if result == 0:\n",
    "            print(\"✅ Port is open - Server appears to be running\")\n",
    "        else:\n",
    "            print(\"❌ Port is closed - Server might not be running\")\n",
    "            print(\"\\nTroubleshooting steps:\")\n",
    "            print(\"1. Make sure LM Studio is open\")\n",
    "            print(\"2. Check if the model is loaded\")\n",
    "            print(\"3. Verify the 'Start Server' button is clicked in LM Studio\")\n",
    "            print(\"4. Confirm the server is running on port 1234\")\n",
    "    except Exception as e:\n",
    "        print(f\"Error during connection test: {e}\")\n",
    "    finally:\n",
    "        sock.close()\n",
    "\n",
    "# Run the diagnostic\n",
    "check_server_status()"
   ]
  },
  {
   "cell_type": "code",
   "execution_count": null,
   "id": "c7eb186d",
   "metadata": {},
   "outputs": [],
   "source": []
  }
 ],
 "metadata": {
  "kernelspec": {
   "display_name": "Python 3",
   "language": "python",
   "name": "python3"
  },
  "language_info": {
   "codemirror_mode": {
    "name": "ipython",
    "version": 3
   },
   "file_extension": ".py",
   "mimetype": "text/x-python",
   "name": "python",
   "nbconvert_exporter": "python",
   "pygments_lexer": "ipython3",
   "version": "3.12.1"
  }
 },
 "nbformat": 4,
 "nbformat_minor": 5
}
